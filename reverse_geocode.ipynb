{
 "cells": [
  {
   "cell_type": "code",
   "execution_count": null,
   "id": "fc419a63",
   "metadata": {},
   "outputs": [],
   "source": [
    "import pandas as pd\n",
    "\n",
    "df = pd.read_csv(\"result geocoding.csv\")\n",
    "df"
   ]
  },
  {
   "cell_type": "code",
   "execution_count": null,
   "id": "c682c43c",
   "metadata": {},
   "outputs": [],
   "source": [
    "#df[\"geom\"] =  df[\"Latitude\"].map(str)  + ',' + df['Longitude'].map(str)\n",
    "#df[\"geom\"]"
   ]
  },
  {
   "cell_type": "code",
   "execution_count": null,
   "id": "3dcc2038",
   "metadata": {},
   "outputs": [],
   "source": [
    "df"
   ]
  },
  {
   "cell_type": "code",
   "execution_count": null,
   "id": "c0a4c956",
   "metadata": {},
   "outputs": [],
   "source": [
    "#from geopy.geocoders import Nominatim\n",
    "#geolocator = Nominatim(user_agent=\"http\")\n",
    "#location = geolocator.reverse(df[\"geom\"][1])\n",
    "\n",
    "#print(location.address)"
   ]
  },
  {
   "cell_type": "code",
   "execution_count": null,
   "id": "21e04d07",
   "metadata": {},
   "outputs": [],
   "source": [
    "#location.raw"
   ]
  },
  {
   "cell_type": "code",
   "execution_count": null,
   "id": "404433ce",
   "metadata": {},
   "outputs": [],
   "source": [
    "#location.raw.get('address').get('city')"
   ]
  },
  {
   "cell_type": "code",
   "execution_count": null,
   "id": "d19c8b62",
   "metadata": {},
   "outputs": [],
   "source": [
    "import geocoder\n",
    "\n",
    "def geo_rev(x):\n",
    "    g = geocoder.osm([x.Latitude, x.Longitude], method='reverse').json\n",
    "    if g:\n",
    "        return g.get('village')\n",
    "    else:\n",
    "        return 'no country'\n",
    "\n",
    "df[\"kelurahan\"] = df[['Latitude', 'Longitude']].apply(geo_rev, axis=1)\n",
    "df"
   ]
  },
  {
   "cell_type": "code",
   "execution_count": null,
   "id": "d1d03467",
   "metadata": {},
   "outputs": [],
   "source": [
    "def geo_rev(x):\n",
    "    g = geocoder.osm([x.Latitude, x.Longitude], method='reverse').json\n",
    "    if g:\n",
    "        return g.get('suburb')\n",
    "    else:\n",
    "        return 'no country'\n",
    "\n",
    "df[\"kecamatan\"] = df[['Latitude', 'Longitude']].apply(geo_rev, axis=1)\n",
    "df"
   ]
  },
  {
   "cell_type": "code",
   "execution_count": null,
   "id": "c0c193f3",
   "metadata": {},
   "outputs": [],
   "source": [
    "df.to_csv('hasil jadi.csv')"
   ]
  },
  {
   "cell_type": "code",
   "execution_count": null,
   "id": "3e8042ee",
   "metadata": {},
   "outputs": [],
   "source": []
  }
 ],
 "metadata": {
  "kernelspec": {
   "display_name": "Python 3",
   "language": "python",
   "name": "python3"
  },
  "language_info": {
   "codemirror_mode": {
    "name": "ipython",
    "version": 3
   },
   "file_extension": ".py",
   "mimetype": "text/x-python",
   "name": "python",
   "nbconvert_exporter": "python",
   "pygments_lexer": "ipython3",
   "version": "3.7.8"
  }
 },
 "nbformat": 4,
 "nbformat_minor": 5
}
